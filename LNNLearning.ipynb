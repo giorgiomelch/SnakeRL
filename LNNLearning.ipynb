{
 "cells": [
  {
   "cell_type": "code",
   "execution_count": 10,
   "metadata": {},
   "outputs": [],
   "source": [
    "import numpy as np\n",
    "import os\n",
    "import matplotlib.pyplot as plt\n",
    "import enviroment_no_visual as enviroment_no_visual\n",
    "import enviroment_visual as enviroment_visual\n",
    "import tensorflow as tf\n",
    "import keras"
   ]
  },
  {
   "cell_type": "markdown",
   "metadata": {},
   "source": [
    "Implementazione di un buffer circolare che permetta inserimento/cancellazione degli elementi e accesso random veloce. "
   ]
  },
  {
   "cell_type": "code",
   "execution_count": 11,
   "metadata": {},
   "outputs": [],
   "source": [
    "class ReplayBuffer:\n",
    "    def __init__(self, max_size):\n",
    "        self.buffer = np.empty(max_size, dtype=object)\n",
    "        self.max_size = max_size\n",
    "        self.index = 0\n",
    "        self.size = 0\n",
    "\n",
    "    def append(self, obj):\n",
    "        self.buffer[self.index] = obj\n",
    "        self.size = min(self.size + 1, self.max_size)\n",
    "        self.index = (self.index + 1) % self.max_size\n",
    "\n",
    "    def sample(self, batch_size):\n",
    "        indices = np.random.randint(self.size, size=batch_size)\n",
    "        return self.buffer[indices]\n",
    "    \n",
    "    def sample_experiences(self, batch_size):\n",
    "        batch = self.sample(batch_size)\n",
    "        states, actions, rewards, next_states, game_over = [\n",
    "            np.array([experience[field_index] for experience in batch])\n",
    "                        for field_index in range(5)]\n",
    "        return states, actions, rewards, next_states, game_over"
   ]
  },
  {
   "cell_type": "code",
   "execution_count": 12,
   "metadata": {},
   "outputs": [],
   "source": [
    "def Linear_QNet(input_shape, n_hidden, units_per_hidden, output_size):\n",
    "    model = keras.models.Sequential()\n",
    "    model.add(keras.layers.Input(shape=input_shape))\n",
    "    for i in range(n_hidden):\n",
    "        model.add(keras.layers.Dense(units_per_hidden[i], activation='relu'))\n",
    "    model.add(keras.layers.Dense(units=output_size))\n",
    "    return model\n",
    "\n",
    "class QTrainer:\n",
    "\n",
    "    def __init__(self, model, lr=1e-3, gamma=0.9):\n",
    "        self.model = model\n",
    "        self.gamma = gamma\n",
    "        self.optimizer = keras.optimizers.Adam(learning_rate=lr)\n",
    "        self.loss_fn = keras.losses.mean_squared_error\n",
    "\n",
    "    def train_step(self, states, actions, rewards, next_states, dones):\n",
    "        next_Q_values = self.model(next_states)\n",
    "        max_next_Q_values = tf.reduce_max(next_Q_values, axis=1)\n",
    "        # Equazione di Bellman: Q value = reward + discount factor * expected future reward\n",
    "        target_Q_values = rewards + (1 - dones) * self.gamma * max_next_Q_values\n",
    "\n",
    "        with tf.GradientTape() as tape:\n",
    "            # train the model on the states and updated Q-values\n",
    "            all_Q_values = self.model(states)  # similar to action_probs\n",
    "            # apply the masks to the Q-values to get the Q-value for the action taken\n",
    "            Q_values = tf.reduce_sum(all_Q_values * actions, axis=1, keepdims=True)\n",
    "            # calculate loss between new Q-value and old Q-value\n",
    "            loss = tf.reduce_mean(self.loss_fn(target_Q_values, Q_values))\n",
    "        # Backpropagation\n",
    "        grads = tape.gradient(loss, self.model.trainable_variables)\n",
    "        self.optimizer.apply_gradients(zip(grads, self.model.trainable_variables))"
   ]
  },
  {
   "cell_type": "code",
   "execution_count": 13,
   "metadata": {},
   "outputs": [],
   "source": [
    "# Espande di una dimensione. Quando si vuole (1,x) ma hai (1,)\n",
    "def add_dimension(states, actions, rewards, next_states, dones):\n",
    "    state = np.expand_dims(states, axis=0)\n",
    "    action = np.expand_dims(actions, axis=0)\n",
    "    reward = np.expand_dims(rewards, axis=0)\n",
    "    next_state = np.expand_dims(next_states, axis=0)\n",
    "    done = np.expand_dims(dones, axis=0)\n",
    "\n",
    "    return state, action, reward, next_state, done"
   ]
  },
  {
   "cell_type": "code",
   "execution_count": 14,
   "metadata": {},
   "outputs": [],
   "source": [
    "class Agent:\n",
    "\n",
    "    def __init__(self, lr, gamma, max_memory, batch_size, nn_model):\n",
    "        self.n_games = 0\n",
    "        self.epsilon = 1  \n",
    "        self.lr = lr\n",
    "        self.gamma = gamma  \n",
    "        self.memory = ReplayBuffer(max_size=max_memory)\n",
    "        self.batch_size = batch_size\n",
    "        self.model = nn_model\n",
    "        self.trainer = QTrainer(self.model, lr=self.lr, gamma=self.gamma)\n",
    "\n",
    "    def remember(self, state, action, reward, next_state, done):\n",
    "        self.memory.append((state, action, reward, next_state, done))\n",
    "\n",
    "    def train_long_memory(self):\n",
    "            states, actions, rewards, next_states, dones = self.memory.sample_experiences(self.batch_size)\n",
    "            self.trainer.train_step(states, actions, rewards, next_states, dones)\n",
    "\n",
    "    def train_short_memory(self, state, action, reward, next_state, done):\n",
    "        state, action, reward, next_state, done = add_dimension(state, action, reward, next_state, done)\n",
    "        self.trainer.train_step(state, action, reward, next_state, done)\n",
    "\n",
    "    def epsilon_greedy_policy(self, state):\n",
    "        if np.random.rand() < self.epsilon:\n",
    "            return np.random.randint(3)\n",
    "        else:\n",
    "            Q_values = self.model(state[np.newaxis])\n",
    "            return np.argmax(Q_values[0])\n",
    "        \n",
    "    def get_action(self, state):\n",
    "        final_move = [0, 0, 0]  \n",
    "        move = self.epsilon_greedy_policy(state)\n",
    "        final_move[move] = 1\n",
    "        return final_move\n",
    "    \n",
    "    def train(self, N_GAME, visual=True):\n",
    "        if visual:\n",
    "            env = enviroment_visual.SnakeGameAI(speed=0)\n",
    "        else:\n",
    "            env = enviroment_no_visual.SnakeGameAI()\n",
    "        plot_scores = []\n",
    "        plot_mean_scores = []\n",
    "        total_score = 0\n",
    "        record = 0\n",
    "\n",
    "        while self.n_games < N_GAME:\n",
    "            state_old = env.get_state()\n",
    "            final_move = self.get_action(state_old)\n",
    "\n",
    "            state_new, reward, done, score = env.play_step(final_move)\n",
    "\n",
    "            self.train_short_memory(state_old, final_move, reward, state_new, done)\n",
    "            self.remember(state_old, final_move, reward, state_new, done)\n",
    "\n",
    "            if done:\n",
    "                env.reset()\n",
    "                self.n_games += 1\n",
    "                self.train_long_memory()\n",
    "                print(f\"\\rGame: {self.n_games}, Epsilon: {self.epsilon:3f}, Score: {score}, Record: {record}.\", end=\"\")\n",
    "                self.epsilon = max((1 - self.n_games / (0.7 * N_GAME)), 0) \n",
    "\n",
    "                if score > record:\n",
    "                    record = score\n",
    "                    self.save_model()\n",
    "\n",
    "                plot_scores.append(score)\n",
    "                total_score += score\n",
    "                mean_score = total_score / self.n_games\n",
    "                plot_mean_scores.append(mean_score)\n",
    "                \n",
    "        return plot_scores, plot_mean_scores\n",
    "\n",
    "    def save_model(self, model_dir_path=\"./DQNmodel\", file_name='model.keras'):\n",
    "        if not os.path.exists(model_dir_path):\n",
    "            print(f\"La cartella non esiste. Sarà creata con nome: {model_dir_path}\")\n",
    "            os.mkdir(model_dir_path)\n",
    "        file_name = os.path.join(model_dir_path, file_name)\n",
    "        self.model.save(file_name)"
   ]
  },
  {
   "cell_type": "markdown",
   "metadata": {},
   "source": [
    "Mostra andamento dello score per partita durante il training"
   ]
  },
  {
   "cell_type": "code",
   "execution_count": 6,
   "metadata": {},
   "outputs": [],
   "source": [
    "def plot_trand(scores, mean_scores, save_path=None):\n",
    "    plt.plot(scores, label='Score')\n",
    "    plt.plot(mean_scores, label='Mean score')\n",
    "    last_mean_score = mean_scores[-1]\n",
    "    plt.text(len(mean_scores)-1, last_mean_score, f'{last_mean_score}', fontsize=12, color=\"darkorange\", ha='center')\n",
    "\n",
    "    plt.title(\"Andamento del training\")\n",
    "    plt.xlabel(\"Partite\")\n",
    "    plt.ylabel(\"Score\")\n",
    "    plt.legend()\n",
    "    if save_path is not None:\n",
    "        plt.savefig(save_path)\n",
    "    plt.show()"
   ]
  },
  {
   "cell_type": "code",
   "execution_count": null,
   "metadata": {},
   "outputs": [],
   "source": [
    "model = Linear_QNet(input_shape=[11], n_hidden=1, units_per_hidden=[256], output_size=3)\n",
    "agent = Agent(lr=0.001, gamma=0.9, max_memory=100_000, batch_size=5_000, nn_model=model)\n",
    "plot_scores, plot_mean_scores = agent.train(N_GAME=150, visual=True)\n",
    "plot_trand(plot_scores, plot_mean_scores)"
   ]
  },
  {
   "cell_type": "markdown",
   "metadata": {},
   "source": [
    "Carica un modello salvato"
   ]
  },
  {
   "cell_type": "code",
   "execution_count": 8,
   "metadata": {},
   "outputs": [],
   "source": [
    "def load_model_from_file(model_dir_path=\"./DQNmodel\", file_name='model.keras'):\n",
    "    file_path = os.path.join(model_dir_path, file_name)\n",
    "    if os.path.exists(file_path):\n",
    "        print(f\"Caricamento del modello da: {file_path}\")\n",
    "        model = keras.models.load_model(file_path)  # Carica il modello\n",
    "        return model\n",
    "    else:\n",
    "        raise FileNotFoundError(f\"Il file {file_path} non esiste.\")"
   ]
  },
  {
   "cell_type": "markdown",
   "metadata": {},
   "source": [
    "# GRID SEARCH PER IPERPARAMETRI"
   ]
  },
  {
   "cell_type": "code",
   "execution_count": 16,
   "metadata": {},
   "outputs": [
    {
     "name": "stdout",
     "output_type": "stream",
     "text": [
      "Esecuzione di: lr:0.05_gamma:0.9_max_memory:50000_batch_size:1000_model:h=1,128\n",
      "Game: 3, Epsilon: 0.980952, Score: 0, Record: 1."
     ]
    }
   ],
   "source": [
    "lr_space = [0.05, 0.01, 0.001]\n",
    "gamma_space = [0.9, 0.95, 0.99]\n",
    "max_memory_space = [50_000, 100_000]\n",
    "batch_size_space =[1000, 2500, 5000]\n",
    "model_space = [Linear_QNet([11], 1, [128], 3), Linear_QNet([11], 1, [256], 3), Linear_QNet([11], 1, [512], 3),\n",
    "               Linear_QNet([11], 2, [64, 64], 3), Linear_QNet([11], 2, [128, 64], 3), Linear_QNet([11], 2, [64, 128], 3)]\n",
    "model_name = [\"h=1,128\", \"h=1,256\", \"h=1,512\", \n",
    "              \"h=2,64-64\", \"h=2,128-64\", \"h=2,64-128\"]\n",
    "N_GAME = 150\n",
    "\n",
    "for lr_curr in lr_space:\n",
    "    for gamma_curr in gamma_space:\n",
    "        for max_memory_curr in max_memory_space:\n",
    "            for batch_size_curr in batch_size_space:\n",
    "                i=0\n",
    "                for model_curr in model_space:\n",
    "                    file_name = \"lr:\"+str(lr_curr)+\"_gamma:\"+str(gamma_curr)+\"_max_memory:\"+str(max_memory_curr)+\"_batch_size:\"+str(batch_size_curr)+\"_model:\"+model_name[i]\n",
    "                    print(\"Esecuzione di: \" + file_name)\n",
    "                    agent = Agent(lr_curr, gamma_curr, max_memory_curr, batch_size_curr, model_curr)\n",
    "                    ls_scores, ls_mean_scores = agent.train(N_GAME=150, visual=False)\n",
    "                    np.save(\"GridSearch/score_lists/\"+file_name+'.npy', ls_scores)\n",
    "                    plot_trand(ls_scores, ls_mean_scores, save_path=\"GridSearch/score_lists/\"+file_name)\n",
    "                i+=1"
   ]
  },
  {
   "cell_type": "markdown",
   "metadata": {},
   "source": [
    "Testa su10 partite la performance del modello addestrato."
   ]
  },
  {
   "cell_type": "code",
   "execution_count": 26,
   "metadata": {},
   "outputs": [
    {
     "name": "stdout",
     "output_type": "stream",
     "text": [
      "Game: 9, Score: 31, Record: 41.\n",
      "Mean score: 25.9, Max score: 41"
     ]
    }
   ],
   "source": [
    "env = enviroment_no_visual.SnakeGameAI()\n",
    "MAX_N_GAMES = 10\n",
    "cumulative_score = 0\n",
    "max_score = 0\n",
    "\n",
    "for n_game in range(MAX_N_GAMES):\n",
    "    env.reset()\n",
    "    game_over = False\n",
    "    state= env.get_state()\n",
    "    while not game_over:\n",
    "        action = np.argmax(model(state[np.newaxis])[0])\n",
    "        final_move = [0,0,0]\n",
    "        final_move[action] = 1\n",
    "        state, reward, game_over, score = env.play_step(final_move)\n",
    "    if score > max_score:\n",
    "        max_score = score\n",
    "    cumulative_score += score\n",
    "    print(f\"\\rGame: {n_game}, Score: {score}, Record: {max_score}.\", end=\"\")\n",
    "    \n",
    "print(f\"\\nMean score: {cumulative_score/ MAX_N_GAMES}, Max score: {max_score}\", end=\"\")"
   ]
  },
  {
   "cell_type": "markdown",
   "metadata": {},
   "source": [
    "Mostra visualmente una partita dell'Agente"
   ]
  },
  {
   "cell_type": "code",
   "execution_count": 27,
   "metadata": {},
   "outputs": [],
   "source": [
    "env_visual = enviroment_visual.SnakeGameAI(speed=0)\n",
    "game_over = False\n",
    "state = env_visual.get_state()\n",
    "while not game_over:\n",
    "    action = np.argmax(model(state[np.newaxis])[0])\n",
    "\n",
    "    final_move = [0,0,0]\n",
    "    final_move[action] = 1\n",
    "\n",
    "    state, reward, game_over, score = env_visual.play_step(final_move)"
   ]
  }
 ],
 "metadata": {
  "kernelspec": {
   "display_name": "SnakeRL",
   "language": "python",
   "name": "python3"
  },
  "language_info": {
   "codemirror_mode": {
    "name": "ipython",
    "version": 3
   },
   "file_extension": ".py",
   "mimetype": "text/x-python",
   "name": "python",
   "nbconvert_exporter": "python",
   "pygments_lexer": "ipython3",
   "version": "3.12.4"
  }
 },
 "nbformat": 4,
 "nbformat_minor": 2
}
