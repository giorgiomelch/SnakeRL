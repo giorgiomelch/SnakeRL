{
 "cells": [
  {
   "cell_type": "code",
   "execution_count": 1,
   "metadata": {},
   "outputs": [
    {
     "name": "stdout",
     "output_type": "stream",
     "text": [
      "pygame 2.6.0 (SDL 2.28.4, Python 3.12.4)\n",
      "Hello from the pygame community. https://www.pygame.org/contribute.html\n"
     ]
    },
    {
     "name": "stderr",
     "output_type": "stream",
     "text": [
      "2024-10-21 16:26:42.713286: I external/local_xla/xla/tsl/cuda/cudart_stub.cc:32] Could not find cuda drivers on your machine, GPU will not be used.\n",
      "2024-10-21 16:26:42.733623: I external/local_xla/xla/tsl/cuda/cudart_stub.cc:32] Could not find cuda drivers on your machine, GPU will not be used.\n",
      "2024-10-21 16:26:42.771245: E external/local_xla/xla/stream_executor/cuda/cuda_fft.cc:485] Unable to register cuFFT factory: Attempting to register factory for plugin cuFFT when one has already been registered\n",
      "2024-10-21 16:26:42.839886: E external/local_xla/xla/stream_executor/cuda/cuda_dnn.cc:8454] Unable to register cuDNN factory: Attempting to register factory for plugin cuDNN when one has already been registered\n",
      "2024-10-21 16:26:42.857821: E external/local_xla/xla/stream_executor/cuda/cuda_blas.cc:1452] Unable to register cuBLAS factory: Attempting to register factory for plugin cuBLAS when one has already been registered\n",
      "2024-10-21 16:26:42.968381: I tensorflow/core/platform/cpu_feature_guard.cc:210] This TensorFlow binary is optimized to use available CPU instructions in performance-critical operations.\n",
      "To enable the following instructions: AVX2 FMA, in other operations, rebuild TensorFlow with the appropriate compiler flags.\n",
      "2024-10-21 16:26:47.642079: W tensorflow/compiler/tf2tensorrt/utils/py_utils.cc:38] TF-TRT Warning: Could not find TensorRT\n"
     ]
    }
   ],
   "source": [
    "import enviroment\n",
    "import numpy as np\n",
    "from tensorflow import keras"
   ]
  },
  {
   "cell_type": "code",
   "execution_count": 2,
   "metadata": {},
   "outputs": [],
   "source": [
    "#Funzioni necessarie per TabQFunction\n",
    "def state_to_index(state_vector):\n",
    "    pericoli = state_vector[0] * 4 + state_vector[1] * 2 + state_vector[2]\n",
    "    direzione_corrente = state_vector[3] * 3 + state_vector[4] * 2 + state_vector[5] * 1\n",
    "    posizione_frutto = np.mod(state_vector[7] * 6 + state_vector[8] * 3 + state_vector[9] * 2 + state_vector[10], 8)\n",
    "    return pericoli * 32 + direzione_corrente * 8 + posizione_frutto\n",
    "def initialize_QTable():\n",
    "    return np.zeros((256, 3))"
   ]
  },
  {
   "cell_type": "code",
   "execution_count": 18,
   "metadata": {},
   "outputs": [],
   "source": [
    "def tab_function(file_path, N_GAMES, visual=False, speed=0):\n",
    "    Q_table = np.load(file_path)\n",
    "    env_visual = enviroment.LinearStateSnakeGame(visual=visual, speed=speed)\n",
    "    score_result = []\n",
    "    for _ in range(N_GAMES):\n",
    "        state = env_visual.reset()\n",
    "        game_over = False\n",
    "        while not game_over:\n",
    "            state = env_visual.get_state()\n",
    "            row_Q_value = state_to_index(state)\n",
    "            action = np.argmax(Q_table[row_Q_value])\n",
    "            final_move = [0, 0, 0]\n",
    "            final_move[action] = 1\n",
    "            _, _, game_over, score = env_visual.play_step(final_move)\n",
    "        score_result.append(score)  \n",
    "    return score_result\n",
    "\n",
    "def dqn_easy_state(file_path, N_GAMES, visual=False, speed=0):\n",
    "    model = keras.models.load_model(file_path)\n",
    "    env_visual = enviroment.LinearStateSnakeGame(visual=visual, speed=speed)\n",
    "    score_result = []\n",
    "    for _ in range(N_GAMES):\n",
    "        state = env_visual.reset()\n",
    "        state = env_visual.get_state()\n",
    "        game_over = False\n",
    "        while not game_over:\n",
    "            action = np.argmax(model(state[np.newaxis])[0])\n",
    "            final_move = [0, 0, 0]\n",
    "            final_move[action] = 1\n",
    "            state, _, game_over, score = env_visual.play_step(final_move)\n",
    "        score_result.append(score)  \n",
    "    return score_result\n",
    "\n",
    "def dqn_matrix_state(file_path, N_GAMES, visual=False, speed=0):\n",
    "    model = keras.models.load_model(file_path)\n",
    "    env_visual = enviroment.MatrixStateSnakeGame(visual=visual, speed=speed)\n",
    "    score_result = []\n",
    "    for _ in range(N_GAMES):\n",
    "        state = env_visual.reset()\n",
    "        state = env_visual.get_state()\n",
    "        game_over = False\n",
    "        while not game_over:\n",
    "            action = np.argmax(model(state[np.newaxis])[0])\n",
    "            final_move = [0,0,0,0]\n",
    "            final_move[action] = 1\n",
    "            state, _, game_over, score = env_visual.play_step(final_move)\n",
    "        score_result.append(score)\n",
    "    return score_result"
   ]
  },
  {
   "cell_type": "markdown",
   "metadata": {},
   "source": [
    "Confronto tra differenti approcci ciascuno testato su 50 partite"
   ]
  },
  {
   "cell_type": "code",
   "execution_count": 16,
   "metadata": {},
   "outputs": [
    {
     "name": "stdout",
     "output_type": "stream",
     "text": [
      "Media: 29.94\n",
      "Deviazione standard: 9.102549093523198\n",
      "Valore massimo: 49\n"
     ]
    }
   ],
   "source": [
    "score_result_t = tab_function(file_path=\"./Q_table/ExplorationFunction/890000step.npy\",\n",
    "             N_GAMES=50)\n",
    "media_t = np.mean(score_result_t)\n",
    "deviazione_std_t = np.std(score_result_t)\n",
    "valore_max_t = np.max(score_result_t)\n",
    "print(f\"Media: {media_t}\")\n",
    "print(f\"Deviazione standard: {deviazione_std_t}\")\n",
    "print(f\"Valore massimo: {valore_max_t}\")"
   ]
  },
  {
   "cell_type": "code",
   "execution_count": 18,
   "metadata": {},
   "outputs": [
    {
     "name": "stdout",
     "output_type": "stream",
     "text": [
      "Media: 26.56\n",
      "Deviazione standard: 8.779886104044857\n",
      "Valore massimo: 45\n"
     ]
    }
   ],
   "source": [
    "score_result_e = dqn_easy_state(file_path=\"./DQN_saved_model/easy_state/model_DDQN.keras\",\n",
    "             N_GAMES=50)\n",
    "media_e = np.mean(score_result_e)\n",
    "deviazione_std_e = np.std(score_result_e)\n",
    "valore_max_e = np.max(score_result_e)\n",
    "print(f\"Media: {media_e}\")\n",
    "print(f\"Deviazione standard: {deviazione_std_e}\")\n",
    "print(f\"Valore massimo: {valore_max_e}\")"
   ]
  },
  {
   "cell_type": "code",
   "execution_count": 19,
   "metadata": {},
   "outputs": [
    {
     "name": "stdout",
     "output_type": "stream",
     "text": [
      "Media: 37.28\n",
      "Deviazione standard: 9.917741678426596\n",
      "Valore massimo: 59\n"
     ]
    }
   ],
   "source": [
    "score_result_m = dqn_matrix_state(file_path=\"./DQN_saved_model/matrix_state/model_DDQN.keras\",\n",
    "             N_GAMES=50, visual=False, speed=10)\n",
    "media_m = np.mean(score_result_m)\n",
    "deviazione_std_m = np.std(score_result_m)\n",
    "valore_max_m = np.max(score_result_m)\n",
    "print(f\"Media: {media_m}\")\n",
    "print(f\"Deviazione standard: {deviazione_std_m}\")\n",
    "print(f\"Valore massimo: {valore_max_m}\")"
   ]
  },
  {
   "cell_type": "markdown",
   "metadata": {},
   "source": [
    "Test per verificare che il modello si accorga di morte imminente in caso di prosecuzione verso il frutto"
   ]
  },
  {
   "cell_type": "code",
   "execution_count": 3,
   "metadata": {},
   "outputs": [],
   "source": [
    "def tab_test_one(file_path, speed=5):\n",
    "    Q_table = np.load(file_path)\n",
    "    env = enviroment.LinearStateSnakeGame(visual=True, speed=speed)\n",
    "    state = env.reset()\n",
    "    env.set_test_uno()\n",
    "    state = env.get_state()\n",
    "    game_over = False\n",
    "    step_after_score=0\n",
    "    while not game_over:\n",
    "        state = env.get_state()\n",
    "        row_Q_value = state_to_index(state)\n",
    "        action = np.argmax(Q_table[row_Q_value])\n",
    "        final_move = [0,0,0]\n",
    "        final_move[action] = 1\n",
    "        state, _, game_over, score = env.play_step(final_move)\n",
    "        if score==1:\n",
    "            if step_after_score>=10:\n",
    "                print(\"Test succeded!\")\n",
    "                env.close_pygame()\n",
    "                return\n",
    "            else:\n",
    "                step_after_score+=1\n",
    "    print(\"Test failed!\")       \n",
    "    env.close_pygame()\n",
    "    \n",
    "def dqn_easy_test_one(file_path, speed=5):\n",
    "    model = keras.models.load_model(file_path)\n",
    "    env = enviroment.LinearStateSnakeGame(visual=True, speed=speed)\n",
    "    state = env.reset()\n",
    "    env.set_test_uno()\n",
    "    state = env.get_state()\n",
    "    game_over = False\n",
    "    step_after_score=0\n",
    "    while not game_over:\n",
    "        action = np.argmax(model(state[np.newaxis])[0])\n",
    "        final_move = [0,0,0]\n",
    "        final_move[action] = 1\n",
    "        state, _, game_over, score = env.play_step(final_move)\n",
    "        if score==1:\n",
    "            if step_after_score>=10:\n",
    "                print(\"Test succeded!\")\n",
    "                env.close_pygame()\n",
    "                return\n",
    "            else:\n",
    "                step_after_score+=1\n",
    "    print(\"Test failed!\")       \n",
    "    env.close_pygame()\n",
    "\n",
    "def dqn_matrix_test_one(file_path, speed=5):\n",
    "    model = keras.models.load_model(file_path)\n",
    "    env = enviroment.MatrixStateSnakeGame(visual=True, speed=speed)\n",
    "    state = env.reset()\n",
    "    env.set_test_uno()\n",
    "    state = env.get_state()\n",
    "    env.update_ui()\n",
    "    game_over = False\n",
    "    step_after_score=0\n",
    "    while not game_over:\n",
    "        action = np.argmax(model(state[np.newaxis])[0])\n",
    "        final_move = [0,0,0,0]\n",
    "        final_move[action] = 1\n",
    "        state, _, game_over, score = env.play_step(final_move)\n",
    "        if score>=1:\n",
    "            if step_after_score>=10:\n",
    "                print(\"Test succeded!\")\n",
    "                env.close_pygame()\n",
    "                return\n",
    "            else:\n",
    "                step_after_score+=1\n",
    "    print(\"Test failed!\")       \n",
    "    env.close_pygame()"
   ]
  },
  {
   "cell_type": "code",
   "execution_count": 23,
   "metadata": {},
   "outputs": [
    {
     "name": "stdout",
     "output_type": "stream",
     "text": [
      "Test failed!\n"
     ]
    }
   ],
   "source": [
    "tab_test_one(\"./Q_table/ExplorationFunction/890000step.npy\", speed=5)"
   ]
  },
  {
   "cell_type": "code",
   "execution_count": 5,
   "metadata": {},
   "outputs": [
    {
     "name": "stdout",
     "output_type": "stream",
     "text": [
      "Test failed!\n"
     ]
    }
   ],
   "source": [
    "dqn_easy_test_one(\"./DQN_saved_model/easy_state/model_DDQN.keras\", speed=5)"
   ]
  },
  {
   "cell_type": "code",
   "execution_count": 4,
   "metadata": {},
   "outputs": [
    {
     "name": "stdout",
     "output_type": "stream",
     "text": [
      "Test succeded!\n"
     ]
    }
   ],
   "source": [
    "dqn_matrix_test_one(\"./DQN_saved_model/matrix_state/model_DDQN.keras\", speed=5)"
   ]
  }
 ],
 "metadata": {
  "kernelspec": {
   "display_name": "SnakeRL",
   "language": "python",
   "name": "python3"
  },
  "language_info": {
   "codemirror_mode": {
    "name": "ipython",
    "version": 3
   },
   "file_extension": ".py",
   "mimetype": "text/x-python",
   "name": "python",
   "nbconvert_exporter": "python",
   "pygments_lexer": "ipython3",
   "version": "3.12.4"
  }
 },
 "nbformat": 4,
 "nbformat_minor": 2
}
