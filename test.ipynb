{
 "cells": [
  {
   "cell_type": "code",
   "execution_count": 1,
   "metadata": {},
   "outputs": [
    {
     "name": "stdout",
     "output_type": "stream",
     "text": [
      "pygame 2.6.0 (SDL 2.28.4, Python 3.12.4)\n",
      "Hello from the pygame community. https://www.pygame.org/contribute.html\n"
     ]
    }
   ],
   "source": [
    "import enviroment\n",
    "import numpy as np\n",
    "from tensorflow import keras\n",
    "import matplotlib.pyplot as plt"
   ]
  },
  {
   "cell_type": "code",
   "execution_count": 2,
   "metadata": {},
   "outputs": [],
   "source": [
    "#Funzioni necessarie per TabQFunction\n",
    "def state_to_index(state_vector):\n",
    "    pericoli = state_vector[0] * 4 + state_vector[1] * 2 + state_vector[2]\n",
    "    direzione_corrente = state_vector[3] * 3 + state_vector[4] * 2 + state_vector[5] * 1\n",
    "    posizione_frutto = np.mod(state_vector[7] * 6 + state_vector[8] * 3 + state_vector[9] * 2 + state_vector[10], 8)\n",
    "    return pericoli * 32 + direzione_corrente * 8 + posizione_frutto\n",
    "def initialize_QTable():\n",
    "    return np.zeros((256, 3))"
   ]
  },
  {
   "cell_type": "code",
   "execution_count": 3,
   "metadata": {},
   "outputs": [],
   "source": [
    "def tab_function(file_path, N_GAMES, visual=False, speed=0):\n",
    "    Q_table = np.load(file_path)\n",
    "    env_visual = enviroment.LinearStateSnakeGame(visual=visual, speed=speed)\n",
    "    score_result = []\n",
    "    for _ in range(N_GAMES):\n",
    "        state = env_visual.reset()\n",
    "        game_over = False\n",
    "        while not game_over:\n",
    "            state = env_visual.get_state()\n",
    "            row_Q_value = state_to_index(state)\n",
    "            action = np.argmax(Q_table[row_Q_value])\n",
    "            final_move = [0, 0, 0]\n",
    "            final_move[action] = 1\n",
    "            _, _, game_over, score = env_visual.play_step(final_move)\n",
    "        score_result.append(score)  \n",
    "    return score_result\n",
    "\n",
    "def dqn_easy_state(file_path, N_GAMES, visual=False, speed=0):\n",
    "    model = keras.models.load_model(file_path)\n",
    "    env_visual = enviroment.LinearStateSnakeGame(visual=visual, speed=speed)\n",
    "    score_result = []\n",
    "    for _ in range(N_GAMES):\n",
    "        state = env_visual.reset()\n",
    "        state = env_visual.get_state()\n",
    "        game_over = False\n",
    "        while not game_over:\n",
    "            action = np.argmax(model(state[np.newaxis])[0])\n",
    "            final_move = [0, 0, 0]\n",
    "            final_move[action] = 1\n",
    "            state, _, game_over, score = env_visual.play_step(final_move)\n",
    "        score_result.append(score)  \n",
    "    return score_result\n",
    "\n",
    "def dqn_matrix_state(file_path, N_GAMES, visual=False, speed=0, visual_range=7):\n",
    "    model = keras.models.load_model(file_path)\n",
    "    env_visual = enviroment.MatrixStateSnakeGame(visual=visual, speed=speed, visual_range=visual_range)\n",
    "    score_result = []\n",
    "    for _ in range(N_GAMES):\n",
    "        state = env_visual.reset()\n",
    "        state = env_visual.get_state()\n",
    "        game_over = False\n",
    "        while not game_over:\n",
    "            action = np.argmax(model(state[np.newaxis])[0])\n",
    "            final_move = [0,0,0,0]\n",
    "            final_move[action] = 1\n",
    "            state, _, game_over, score = env_visual.play_step(final_move)\n",
    "        score_result.append(score)\n",
    "    return score_result"
   ]
  },
  {
   "cell_type": "markdown",
   "metadata": {},
   "source": [
    "Confronto tra differenti approcci ciascuno testato su 50 partite"
   ]
  },
  {
   "cell_type": "code",
   "execution_count": 4,
   "metadata": {},
   "outputs": [
    {
     "name": "stdout",
     "output_type": "stream",
     "text": [
      "Media: 31.74\n",
      "Deviazione standard: 10.586425270127778\n",
      "Valore massimo: 57\n"
     ]
    }
   ],
   "source": [
    "score_result_t = tab_function(file_path=\"./Q_table/ExplorationFunction/890000step.npy\",\n",
    "             N_GAMES=50)\n",
    "media_t = np.mean(score_result_t)\n",
    "deviazione_std_t = np.std(score_result_t)\n",
    "valore_max_t = np.max(score_result_t)\n",
    "print(f\"Media: {media_t}\")\n",
    "print(f\"Deviazione standard: {deviazione_std_t}\")\n",
    "print(f\"Valore massimo: {valore_max_t}\")"
   ]
  },
  {
   "cell_type": "code",
   "execution_count": 5,
   "metadata": {},
   "outputs": [
    {
     "name": "stdout",
     "output_type": "stream",
     "text": [
      "Media: 28.86\n",
      "Deviazione standard: 8.345082384254813\n",
      "Valore massimo: 45\n"
     ]
    }
   ],
   "source": [
    "score_result_e = dqn_easy_state(file_path=\"./DQN_saved_model/easy_state/model_DDQN.keras\",\n",
    "             N_GAMES=50)\n",
    "media_e = np.mean(score_result_e)\n",
    "deviazione_std_e = np.std(score_result_e)\n",
    "valore_max_e = np.max(score_result_e)\n",
    "print(f\"Media: {media_e}\")\n",
    "print(f\"Deviazione standard: {deviazione_std_e}\")\n",
    "print(f\"Valore massimo: {valore_max_e}\")"
   ]
  },
  {
   "cell_type": "code",
   "execution_count": 24,
   "metadata": {},
   "outputs": [
    {
     "name": "stdout",
     "output_type": "stream",
     "text": [
      "Media: 42\n",
      "Deviazione standard: 10.118912985098746\n",
      "Valore massimo: 65\n"
     ]
    }
   ],
   "source": [
    "score_result_m7 = dqn_matrix_state(file_path=\"./DQN_saved_model/matrix_state/bmodel_DDQN.keras\",\n",
    "             N_GAMES=50, visual=False, speed=10, visual_range=7)\n",
    "media_m7 = np.mean(score_result_m7)\n",
    "deviazione_std_m7 = np.std(score_result_m7)\n",
    "valore_max_m7 = np.max(score_result_m7)\n",
    "print(f\"Media: {media_m7}\")\n",
    "print(f\"Deviazione standard: {deviazione_std_m7}\")\n",
    "print(f\"Valore massimo: {valore_max_m7}\")"
   ]
  },
  {
   "cell_type": "code",
   "execution_count": 23,
   "metadata": {},
   "outputs": [
    {
     "name": "stdout",
     "output_type": "stream",
     "text": [
      "Media: 49.45\n",
      "Deviazione standard: 10.262085558014025\n",
      "Valore massimo: 70\n"
     ]
    }
   ],
   "source": [
    "score_result_m9 = dqn_matrix_state(file_path=\"./DQN_saved_model/matrix_state/model_9_3h_DDQN.keras\",\n",
    "             N_GAMES=50, visual=False, speed=10, visual_range=9)\n",
    "media_m9 = np.mean(score_result_m9)\n",
    "deviazione_std_m9 = np.std(score_result_m9)\n",
    "valore_max_m9 = np.max(score_result_m9)\n",
    "print(f\"Media: {media_m9}\")\n",
    "print(f\"Deviazione standard: {deviazione_std_m9}\")\n",
    "print(f\"Valore massimo: {valore_max_m9}\")"
   ]
  },
  {
   "cell_type": "code",
   "execution_count": 26,
   "metadata": {},
   "outputs": [
    {
     "data": {
      "image/png": "[encoded data removed]",
      "text/plain": [
       "<Figure size 800x400 with 1 Axes>"
      ]
     },
     "metadata": {},
     "output_type": "display_data"
    }
   ],
   "source": [
    "medie = [media_t, media_e, media_m7, media_m9]\n",
    "labels = [\"Tabular \\nQLearning\", \"DQN \\n11 valori\", \"DQN \\nmatrice 7x7\", \"DQN \\nmatrice 9x9\"]  \n",
    "colors = ['skyblue', 'lightgreen', 'salmon', 'orange']\n",
    "\n",
    "plt.figure(figsize=(8, 4))\n",
    "plt.bar(labels, medie, color=colors)\n",
    "plt.xlabel('Agenti')\n",
    "plt.ylabel('Punteggio medio')\n",
    "plt.title('Punteggio medio per agente')\n",
    "plt.ylim(0, max(medie) + 1)\n",
    "plt.show()"
   ]
  },
  {
   "cell_type": "markdown",
   "metadata": {},
   "source": [
    "# Test per verificare che il modello si accorga di morte imminente in caso di prosecuzione verso il frutto"
   ]
  },
  {
   "cell_type": "code",
   "execution_count": 3,
   "metadata": {},
   "outputs": [],
   "source": [
    "def tab_test_one(file_path, speed=5):\n",
    "    Q_table = np.load(file_path)\n",
    "    env = enviroment.LinearStateSnakeGame(visual=True, speed=speed)\n",
    "    state = env.reset()\n",
    "    env.set_test_uno()\n",
    "    state = env.get_state()\n",
    "    game_over = False\n",
    "    step_after_score=0\n",
    "    while not game_over:\n",
    "        state = env.get_state()\n",
    "        row_Q_value = state_to_index(state)\n",
    "        action = np.argmax(Q_table[row_Q_value])\n",
    "        final_move = [0,0,0]\n",
    "        final_move[action] = 1\n",
    "        state, _, game_over, score = env.play_step(final_move)\n",
    "        if score==1:\n",
    "            if step_after_score>=10:\n",
    "                print(\"Test succeded!\")\n",
    "                env.close_pygame()\n",
    "                return\n",
    "            else:\n",
    "                step_after_score+=1\n",
    "    print(\"Test failed!\")       \n",
    "    env.close_pygame()\n",
    "    \n",
    "def dqn_easy_test_one(file_path, speed=5):\n",
    "    model = keras.models.load_model(file_path)\n",
    "    env = enviroment.LinearStateSnakeGame(visual=True, speed=speed)\n",
    "    state = env.reset()\n",
    "    env.set_test_uno()\n",
    "    state = env.get_state()\n",
    "    game_over = False\n",
    "    step_after_score=0\n",
    "    while not game_over:\n",
    "        action = np.argmax(model(state[np.newaxis])[0])\n",
    "        final_move = [0,0,0]\n",
    "        final_move[action] = 1\n",
    "        state, _, game_over, score = env.play_step(final_move)\n",
    "        if score==1:\n",
    "            if step_after_score>=10:\n",
    "                print(\"Test succeded!\")\n",
    "                env.close_pygame()\n",
    "                return\n",
    "            else:\n",
    "                step_after_score+=1\n",
    "    print(\"Test failed!\")       \n",
    "    env.close_pygame()\n",
    "\n",
    "def dqn_matrix_test_one(file_path, speed=5):\n",
    "    model = keras.models.load_model(file_path)\n",
    "    env = enviroment.MatrixStateSnakeGame(visual=True, speed=speed)\n",
    "    state = env.reset()\n",
    "    env.set_test_uno()\n",
    "    state = env.get_state()\n",
    "    env.update_ui()\n",
    "    game_over = False\n",
    "    step_after_score=0\n",
    "    while not game_over:\n",
    "        action = np.argmax(model(state[np.newaxis])[0])\n",
    "        final_move = [0,0,0,0]\n",
    "        final_move[action] = 1\n",
    "        state, _, game_over, score = env.play_step(final_move)\n",
    "        if score>=1:\n",
    "            if step_after_score>=10:\n",
    "                print(\"Test succeded!\")\n",
    "                env.close_pygame()\n",
    "                return\n",
    "            else:\n",
    "                step_after_score+=1\n",
    "    print(\"Test failed!\")       \n",
    "    env.close_pygame()"
   ]
  },
  {
   "cell_type": "code",
   "execution_count": 23,
   "metadata": {},
   "outputs": [
    {
     "name": "stdout",
     "output_type": "stream",
     "text": [
      "Test failed!\n"
     ]
    }
   ],
   "source": [
    "tab_test_one(\"./Q_table/ExplorationFunction/890000step.npy\", speed=5)"
   ]
  },
  {
   "cell_type": "code",
   "execution_count": 5,
   "metadata": {},
   "outputs": [
    {
     "name": "stdout",
     "output_type": "stream",
     "text": [
      "Test failed!\n"
     ]
    }
   ],
   "source": [
    "dqn_easy_test_one(\"./DQN_saved_model/easy_state/model_DDQN.keras\", speed=5)"
   ]
  },
  {
   "cell_type": "code",
   "execution_count": 4,
   "metadata": {},
   "outputs": [
    {
     "name": "stdout",
     "output_type": "stream",
     "text": [
      "Test succeded!\n"
     ]
    }
   ],
   "source": [
    "dqn_matrix_test_one(\"./DQN_saved_model/matrix_state/model_DDQN.keras\", speed=5)"
   ]
  }
 ],
 "metadata": {
  "kernelspec": {
   "display_name": "SnakeRL",
   "language": "python",
   "name": "python3"
  },
  "language_info": {
   "codemirror_mode": {
    "name": "ipython",
    "version": 3
   },
   "file_extension": ".py",
   "mimetype": "text/x-python",
   "name": "python",
   "nbconvert_exporter": "python",
   "pygments_lexer": "ipython3",
   "version": "3.12.4"
  }
 },
 "nbformat": 4,
 "nbformat_minor": 2
}
