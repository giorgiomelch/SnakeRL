{
 "cells": [
  {
   "cell_type": "code",
   "execution_count": 1,
   "metadata": {},
   "outputs": [],
   "source": [
    "import numpy as np\n",
    "import random\n",
    "import enviroment_no_visual as enviroment"
   ]
  },
  {
   "cell_type": "code",
   "execution_count": 2,
   "metadata": {},
   "outputs": [],
   "source": [
    "def binary_vector_to_decimal(vector):    \n",
    "    # Converti il vettore binario in una stringa binaria\n",
    "    binary_string = ''.join(map(str, vector))\n",
    "    decimal_value = int(binary_string, 2)\n",
    "    return decimal_value"
   ]
  },
  {
   "cell_type": "code",
   "execution_count": 3,
   "metadata": {},
   "outputs": [],
   "source": [
    "# Crea un array con tutte le combinazioni di 0 e 1 di lunghezza n\n",
    "def generate_boolean_vectors(n):\n",
    "    return np.array(np.meshgrid(*[np.arange(2)] * n)).T.reshape(-1, n)\n",
    "\n",
    "def initialize_QValues():\n",
    "    Q_table = np.zeros((2048, 3))\n",
    "    all_states = generate_boolean_vectors(11)\n",
    "    for s in all_states:\n",
    "        if (s[3] + s[4] + s[5] + s[6]) != 1: # controlla che esista una sola direzione\n",
    "            impossible_row = binary_vector_to_decimal(s)\n",
    "            Q_table[impossible_row, :] = -np.inf\n",
    "        if (s[7] + s[8]) > 1 or (s[9] + s[10]) > 1 or ((s[7] + s[8] + s[9] + s[10]) == 0): # controlla che il frutto non sia a destra e a sinistra o sopra e sotto\n",
    "            impossible_row = binary_vector_to_decimal(s)\n",
    "            Q_table[impossible_row, :] = -np.inf\n",
    "    return Q_table"
   ]
  },
  {
   "cell_type": "code",
   "execution_count": 4,
   "metadata": {},
   "outputs": [],
   "source": [
    "def random_policy():\n",
    "    return np.random.randint(3)"
   ]
  },
  {
   "cell_type": "code",
   "execution_count": 5,
   "metadata": {},
   "outputs": [],
   "source": [
    "def exploration_policy(Q_table, state, epsilon):\n",
    "    rand = random.uniform(0,1)\n",
    "    if rand < epsilon:\n",
    "        return np.random.randint(3)\n",
    "    else:\n",
    "        row_Q_value = binary_vector_to_decimal(state)\n",
    "        return np.argmax(Q_table[row_Q_value])"
   ]
  },
  {
   "cell_type": "code",
   "execution_count": 6,
   "metadata": {},
   "outputs": [],
   "source": [
    "def step(env, action):\n",
    "    final_move = [0,0,0]\n",
    "    final_move[action] = 1\n",
    "    new_state, reward, game_over, _ = env.play_step_QL(final_move)\n",
    "    return new_state, reward, game_over"
   ]
  },
  {
   "cell_type": "code",
   "execution_count": 7,
   "metadata": {},
   "outputs": [],
   "source": [
    "alpha = 0.7  # learning rate\n",
    "gamma = 0.90  # discount factor\n",
    "epsilon = 0.3\n",
    "\n",
    "env = enviroment.SnakeGameAI(200, 200)\n",
    "env.reset()\n",
    "Q_table = initialize_QValues()\n",
    "N_STEPS = 1_000_000\n",
    "for iteration in range(N_STEPS):\n",
    "    state = env.get_state()\n",
    "    row_state = binary_vector_to_decimal(state)\n",
    "    epsilon = max((N_STEPS - iteration)/N_STEPS, 0.1)\n",
    "    action = exploration_policy(Q_table, state, epsilon)\n",
    "    next_state, reward, game_over = step(env, action)\n",
    "    row_next_state = binary_vector_to_decimal(next_state)\n",
    "    next_value = Q_table[row_next_state].max()  # greedy policy at the next step\n",
    "\n",
    "    Q_table[row_state, action] *= 1 - alpha\n",
    "    Q_table[row_state, action] += alpha * (reward + gamma * next_value)\n",
    "    if game_over:\n",
    "        env.reset()\n"
   ]
  },
  {
   "cell_type": "code",
   "execution_count": 12,
   "metadata": {},
   "outputs": [],
   "source": [
    "np.save('Q_table/Q_table.npy', Q_table)"
   ]
  },
  {
   "cell_type": "markdown",
   "metadata": {},
   "source": [
    "Calcolati i Q-value effettua la scelta della prossima mossa in base all'azione con maggiore Q-value"
   ]
  },
  {
   "cell_type": "code",
   "execution_count": 9,
   "metadata": {},
   "outputs": [
    {
     "name": "stdout",
     "output_type": "stream",
     "text": [
      "Mean score: 19.09\n",
      "Max score: 41"
     ]
    }
   ],
   "source": [
    "Q_table = np.load('Q_table/Q_table.npy')\n",
    "env = enviroment.SnakeGameAI()\n",
    "cumulative_score = 0\n",
    "MAX_N_GAMES = 100\n",
    "max_score = 0\n",
    "\n",
    "for n_game in range(MAX_N_GAMES):\n",
    "    env.reset()\n",
    "    game_over = False\n",
    "    while not game_over:\n",
    "        state= env.get_state()\n",
    "        row_Q_value = binary_vector_to_decimal(state)\n",
    "        action = np.argmax(Q_table[row_Q_value])\n",
    "        final_move = [0,0,0]\n",
    "        final_move[action] = 1\n",
    "        new_state, reward, game_over, score = env.play_step_QL(final_move)\n",
    "    if score > max_score:\n",
    "        max_score = score\n",
    "    cumulative_score += score\n",
    "\n",
    "    \n",
    "print(f\"Mean score: {cumulative_score/ MAX_N_GAMES}\\nMax score: {max_score}\", end=\"\")"
   ]
  },
  {
   "cell_type": "code",
   "execution_count": 10,
   "metadata": {},
   "outputs": [
    {
     "name": "stdout",
     "output_type": "stream",
     "text": [
      "pygame 2.6.0 (SDL 2.28.4, Python 3.12.4)\n",
      "Hello from the pygame community. https://www.pygame.org/contribute.html\n",
      "Score: 16"
     ]
    }
   ],
   "source": [
    "import enviroment as enviroment_visual\n",
    "Q_table = np.load('Q_table/Q_table.npy')\n",
    "env_visual = enviroment_visual.SnakeGameAI()\n",
    "env_visual.reset()\n",
    "game_over = False\n",
    "\n",
    "while not game_over:\n",
    "    state= env_visual.get_state()\n",
    "    row_Q_value = binary_vector_to_decimal(state)\n",
    "    action = np.argmax(Q_table[row_Q_value])\n",
    "    final_move = [0,0,0]\n",
    "    final_move[action] = 1\n",
    "    new_state, reward, game_over, score = env_visual.play_step_QL(final_move)\n",
    "    \n",
    "print(f\"Score: {score}\", end=\"\")"
   ]
  }
 ],
 "metadata": {
  "kernelspec": {
   "display_name": "SnakeRL",
   "language": "python",
   "name": "python3"
  },
  "language_info": {
   "codemirror_mode": {
    "name": "ipython",
    "version": 3
   },
   "file_extension": ".py",
   "mimetype": "text/x-python",
   "name": "python",
   "nbconvert_exporter": "python",
   "pygments_lexer": "ipython3",
   "version": "3.12.4"
  }
 },
 "nbformat": 4,
 "nbformat_minor": 2
}
