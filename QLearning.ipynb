{
 "cells": [
  {
   "cell_type": "code",
   "execution_count": 1,
   "metadata": {},
   "outputs": [],
   "source": [
    "import numpy as np\n",
    "import enviroment_no_visual as enviroment"
   ]
  },
  {
   "cell_type": "code",
   "execution_count": 2,
   "metadata": {},
   "outputs": [],
   "source": [
    "def exploration_policy():\n",
    "    return np.random.randint(3)"
   ]
  },
  {
   "cell_type": "code",
   "execution_count": 3,
   "metadata": {},
   "outputs": [],
   "source": [
    "def binary_vector_to_decimal(vector):    \n",
    "    # Converti il vettore binario in una stringa binaria\n",
    "    binary_string = ''.join(map(str, vector))\n",
    "    decimal_value = int(binary_string, 2)\n",
    "    return decimal_value"
   ]
  },
  {
   "cell_type": "code",
   "execution_count": 4,
   "metadata": {},
   "outputs": [],
   "source": [
    "import numpy as np\n",
    "\n",
    "# Crea un array con tutte le combinazioni di 0 e 1 di lunghezza n\n",
    "def generate_boolean_vectors(n):\n",
    "    return np.array(np.meshgrid(*[np.arange(2)] * n)).T.reshape(-1, n)\n",
    "\n",
    "def initialize_QValues():\n",
    "    Q_values = np.zeros((2048, 3))\n",
    "    all_states = generate_boolean_vectors(11)\n",
    "    for s in all_states:\n",
    "        if (s[3] + s[4] + s[5] + s[6]) != 1: # controlla che esista una sola direzione\n",
    "            impossible_row = binary_vector_to_decimal(s)\n",
    "            Q_values[impossible_row, :] = -np.inf\n",
    "        if (s[7] + s[8]) > 1 or (s[9] + s[10]) > 1 or ((s[7] + s[8] + s[9] + s[10]) == 0): # controlla che il frutto non sia a destra e a sinistra o sopra e sotto\n",
    "            impossible_row = binary_vector_to_decimal(s)\n",
    "            Q_values[impossible_row, :] = -np.inf\n",
    "    return Q_values"
   ]
  },
  {
   "cell_type": "code",
   "execution_count": 5,
   "metadata": {},
   "outputs": [],
   "source": [
    "def step(env, action):\n",
    "    final_move = [0,0,0]\n",
    "    final_move[action] = 1\n",
    "    new_state, reward, game_over, _ = env.play_step_QL(final_move)\n",
    "    return new_state, reward, game_over"
   ]
  },
  {
   "cell_type": "code",
   "execution_count": 6,
   "metadata": {},
   "outputs": [],
   "source": [
    "alpha0 = 0.05  # initial learning rate\n",
    "decay = 0.005  # learning rate decay\n",
    "gamma = 0.90  # discount factor\n",
    "\n",
    "env = enviroment.SnakeGameAI()\n",
    "env.reset()\n",
    "Q_values = initialize_QValues()\n",
    "\n",
    "for iteration in range(1_000_000):\n",
    "    action = exploration_policy()\n",
    "    next_state, reward, game_over = step(env, action)\n",
    "    row_next_state = binary_vector_to_decimal(next_state)\n",
    "    next_value = Q_values[row_next_state].max()  # greedy policy at the next step\n",
    "    alpha = alpha0 / (1 + iteration * decay)\n",
    "    Q_values[row_next_state, action] *= 1 - alpha\n",
    "    Q_values[row_next_state, action] += alpha * (reward + gamma * next_value)\n",
    "    if game_over:\n",
    "        env.reset()\n"
   ]
  },
  {
   "cell_type": "code",
   "execution_count": 7,
   "metadata": {},
   "outputs": [],
   "source": [
    "np.save('Q-Value.npy', Q_values)"
   ]
  },
  {
   "cell_type": "markdown",
   "metadata": {},
   "source": [
    "Calcolati i Q-value effettua la scelta della prossima mossa in base all'azione con maggiore Q-value"
   ]
  },
  {
   "cell_type": "code",
   "execution_count": 8,
   "metadata": {},
   "outputs": [
    {
     "name": "stdout",
     "output_type": "stream",
     "text": [
      "Score: 0\n",
      "Number of steps: 5"
     ]
    }
   ],
   "source": [
    "#Q_values = np.load('Q-Value.npy')\n",
    "#env = enviroment.SnakeGameAI()\n",
    "env.reset()\n",
    "game_over = False\n",
    "step=0\n",
    "while not game_over:\n",
    "    state= env.get_state()\n",
    "    row_Q_value = binary_vector_to_decimal(state)\n",
    "    action = np.argmax(Q_values[row_Q_value])\n",
    "    final_move = [0,0,0]\n",
    "    final_move[action] = 1\n",
    "    new_state, reward, game_over, score = env.play_step_QL(final_move)\n",
    "\n",
    "    step+=1\n",
    "    \n",
    "print(f\"Score: {score}\\nNumber of steps: {step}\", end=\"\")"
   ]
  },
  {
   "cell_type": "code",
   "execution_count": 9,
   "metadata": {},
   "outputs": [
    {
     "name": "stdout",
     "output_type": "stream",
     "text": [
      "[ 2.00212101e-06  1.63226371e-03 -2.87873048e-01]\n",
      "0.0016322637145301543\n"
     ]
    }
   ],
   "source": [
    "s1= [0,0,1,\n",
    " 0,0,1,0,\n",
    " 0,0,1,0]\n",
    "print(Q_values[binary_vector_to_decimal(s1)])\n",
    "print(Q_values[binary_vector_to_decimal(s1)].max())"
   ]
  },
  {
   "cell_type": "code",
   "execution_count": 18,
   "metadata": {},
   "outputs": [
    {
     "name": "stdout",
     "output_type": "stream",
     "text": [
      "0\n",
      "0\n",
      "0\n",
      "0\n",
      "0\n",
      "0\n",
      "0\n",
      "0\n",
      "0\n",
      "0\n",
      "0\n",
      "0\n",
      "0\n",
      "0\n",
      "0\n",
      "0\n",
      "0\n",
      "1\n",
      "-10\n",
      "Score: 0\n",
      "Number of steps: 19"
     ]
    },
    {
     "ename": "",
     "evalue": "",
     "output_type": "error",
     "traceback": [
      "\u001b[1;31mThe Kernel crashed while executing code in the current cell or a previous cell. \n",
      "\u001b[1;31mPlease review the code in the cell(s) to identify a possible cause of the failure. \n",
      "\u001b[1;31mClick <a href='https://aka.ms/vscodeJupyterKernelCrash'>here</a> for more info. \n",
      "\u001b[1;31mView Jupyter <a href='command:jupyter.viewOutput'>log</a> for further details."
     ]
    }
   ],
   "source": [
    "import enviroment as enviroment_visual\n",
    "env_visual = enviroment_visual.SnakeGameAI()\n",
    "env_visual.reset()\n",
    "game_over = False\n",
    "step=0\n",
    "while not game_over:\n",
    "    state= env_visual.get_state()\n",
    "    row_Q_value = binary_vector_to_decimal(state)\n",
    "    action = np.argmax(Q_values[row_Q_value])\n",
    "    final_move = [0,0,0]\n",
    "    final_move[action] = 1\n",
    "    new_state, reward, game_over, score = env_visual.play_step_QL(final_move)\n",
    "    print(reward)\n",
    "    step+=1\n",
    "    \n",
    "print(f\"Score: {score}\\nNumber of steps: {step}\", end=\"\")"
   ]
  }
 ],
 "metadata": {
  "kernelspec": {
   "display_name": "SnakeRL",
   "language": "python",
   "name": "python3"
  },
  "language_info": {
   "codemirror_mode": {
    "name": "ipython",
    "version": 3
   },
   "file_extension": ".py",
   "mimetype": "text/x-python",
   "name": "python",
   "nbconvert_exporter": "python",
   "pygments_lexer": "ipython3",
   "version": "3.12.4"
  }
 },
 "nbformat": 4,
 "nbformat_minor": 2
}
