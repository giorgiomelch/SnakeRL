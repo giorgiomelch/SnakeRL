{
 "cells": [
  {
   "cell_type": "code",
   "execution_count": 1,
   "metadata": {},
   "outputs": [
    {
     "name": "stdout",
     "output_type": "stream",
     "text": [
      "pygame 2.6.0 (SDL 2.28.4, Python 3.12.4)\n",
      "Hello from the pygame community. https://www.pygame.org/contribute.html\n"
     ]
    },
    {
     "name": "stderr",
     "output_type": "stream",
     "text": [
      "2024-09-23 15:07:50.038155: I external/local_xla/xla/tsl/cuda/cudart_stub.cc:32] Could not find cuda drivers on your machine, GPU will not be used.\n",
      "2024-09-23 15:07:50.044972: I external/local_xla/xla/tsl/cuda/cudart_stub.cc:32] Could not find cuda drivers on your machine, GPU will not be used.\n",
      "2024-09-23 15:07:50.068365: E external/local_xla/xla/stream_executor/cuda/cuda_fft.cc:485] Unable to register cuFFT factory: Attempting to register factory for plugin cuFFT when one has already been registered\n",
      "2024-09-23 15:07:50.109389: E external/local_xla/xla/stream_executor/cuda/cuda_dnn.cc:8454] Unable to register cuDNN factory: Attempting to register factory for plugin cuDNN when one has already been registered\n",
      "2024-09-23 15:07:50.121983: E external/local_xla/xla/stream_executor/cuda/cuda_blas.cc:1452] Unable to register cuBLAS factory: Attempting to register factory for plugin cuBLAS when one has already been registered\n",
      "2024-09-23 15:07:50.151220: I tensorflow/core/platform/cpu_feature_guard.cc:210] This TensorFlow binary is optimized to use available CPU instructions in performance-critical operations.\n",
      "To enable the following instructions: AVX2 FMA, in other operations, rebuild TensorFlow with the appropriate compiler flags.\n",
      "2024-09-23 15:07:52.289430: W tensorflow/compiler/tf2tensorrt/utils/py_utils.cc:38] TF-TRT Warning: Could not find TensorRT\n"
     ]
    }
   ],
   "source": [
    "import numpy as np\n",
    "import os\n",
    "import matplotlib.pyplot as plt\n",
    "import enviroment_no_visual as enviroment_no_visual\n",
    "import enviroment_visual as enviroment_visual\n",
    "import tensorflow as tf\n",
    "import keras"
   ]
  },
  {
   "cell_type": "markdown",
   "metadata": {},
   "source": [
    "Implementazione di un buffer circolare che permetta inserimento/cancellazione degli elementi e accesso random veloce. "
   ]
  },
  {
   "cell_type": "code",
   "execution_count": 2,
   "metadata": {},
   "outputs": [],
   "source": [
    "class ReplayBuffer:\n",
    "    def __init__(self, max_size):\n",
    "        self.buffer = np.empty(max_size, dtype=object)\n",
    "        self.max_size = max_size\n",
    "        self.index = 0\n",
    "        self.size = 0\n",
    "\n",
    "    def append(self, obj):\n",
    "        self.buffer[self.index] = obj\n",
    "        self.size = min(self.size + 1, self.max_size)\n",
    "        self.index = (self.index + 1) % self.max_size\n",
    "\n",
    "    def sample(self, batch_size):\n",
    "        indices = np.random.randint(self.size, size=batch_size)\n",
    "        return self.buffer[indices]\n",
    "    \n",
    "    def sample_experiences(self, batch_size):\n",
    "        batch = self.sample(batch_size)\n",
    "        states, actions, rewards, next_states, game_over = [\n",
    "            np.array([experience[field_index] for experience in batch])\n",
    "                        for field_index in range(5)]\n",
    "        return states, actions, rewards, next_states, game_over"
   ]
  },
  {
   "cell_type": "code",
   "execution_count": 3,
   "metadata": {},
   "outputs": [],
   "source": [
    "def Convolutional_Neural_Network(input_shape=(20, 20, 1)):\n",
    "    model = keras.models.Sequential()\n",
    "    \n",
    "    # Strato convoluzionale: estrai feature spaziali\n",
    "    model.add(keras.layers.Conv2D(32, kernel_size=(3, 3), activation='relu', input_shape=input_shape))\n",
    "    model.add(keras.layers.Conv2D(64, kernel_size=(3, 3), activation='relu'))\n",
    "    model.add(keras.layers.Conv2D(64, kernel_size=(3, 3), activation='relu'))\n",
    "    \n",
    "    # Flatten per passare agli strati densi\n",
    "    model.add(keras.layers.Flatten())\n",
    "    \n",
    "    # Strato denso completamente connesso\n",
    "    model.add(keras.layers.Dense(128, activation='relu'))\n",
    "    \n",
    "    # Output layer: 3 azioni\n",
    "    model.add(keras.layers.Dense(3, activation='linear'))\n",
    "    \n",
    "    model.compile(optimizer='adam', loss='mse')\n",
    "    \n",
    "    return model\n",
    "\n",
    "class QTrainer:\n",
    "\n",
    "    def __init__(self, model, lr=1e-3, gamma=0.9):\n",
    "        self.model = model\n",
    "        self.gamma = gamma\n",
    "        self.optimizer = keras.optimizers.Adam(learning_rate=lr)\n",
    "        self.loss_fn = keras.losses.mean_squared_error\n",
    "        \n",
    "    def train_step(self, states, actions, rewards, next_states, dones):\n",
    "        next_Q_values = self.model(next_states)\n",
    "        max_next_Q_values = np.max(next_Q_values, axis=1)\n",
    "        # Equazione di Bellman: Q value = reward + discount factor * expected future reward\n",
    "        target_Q_values = rewards + (1 - dones) * self.gamma * max_next_Q_values\n",
    "        target_Q_values = target_Q_values.reshape(-1, 1)\n",
    "\n",
    "        with tf.GradientTape() as tape:\n",
    "            # train the model on the states and updated Q-values\n",
    "            all_Q_values = self.model(states)  # similar to action_probs\n",
    "            # apply the masks to the Q-values to get the Q-value for the action taken\n",
    "            Q_values = tf.reduce_sum(all_Q_values * actions, axis=1, keepdims=True)\n",
    "            # calculate loss between new Q-value and old Q-value\n",
    "            loss = tf.reduce_mean(self.loss_fn(target_Q_values, Q_values))\n",
    "        # Backpropagation\n",
    "        grads = tape.gradient(loss, self.model.trainable_variables)\n",
    "        self.optimizer.apply_gradients(zip(grads, self.model.trainable_variables))"
   ]
  },
  {
   "cell_type": "code",
   "execution_count": 4,
   "metadata": {},
   "outputs": [],
   "source": [
    "# Espande di una dimensione. Quando si vuole (1,x) ma hai (1,)\n",
    "def add_dimension(states, actions, rewards, next_states, dones):\n",
    "    state = np.expand_dims(states, axis=0)\n",
    "    action = np.expand_dims(actions, axis=0)\n",
    "    reward = np.expand_dims(rewards, axis=0)\n",
    "    next_state = np.expand_dims(next_states, axis=0)\n",
    "    done = np.expand_dims(dones, axis=0)\n",
    "\n",
    "    return state, action, reward, next_state, done"
   ]
  },
  {
   "cell_type": "code",
   "execution_count": 5,
   "metadata": {},
   "outputs": [],
   "source": [
    "class Agent:\n",
    "\n",
    "    def __init__(self, max_memory, batch_size):\n",
    "        self.n_games = 0\n",
    "        self.epsilon = 1  \n",
    "        self.lr = 0.001 \n",
    "        self.gamma = 0.9    \n",
    "        self.memory = ReplayBuffer(max_size=max_memory)\n",
    "        self.batch_size = batch_size\n",
    "        self.model = Convolutional_Neural_Network(input_shape=(20, 20, 1))\n",
    "        self.trainer = QTrainer(self.model, lr=self.lr, gamma=self.gamma)\n",
    "\n",
    "    def remember(self, state, action, reward, next_state, done):\n",
    "        self.memory.append((state, action, reward, next_state, done))\n",
    "\n",
    "    def train_long_memory(self):\n",
    "            states, actions, rewards, next_states, dones = self.memory.sample_experiences(self.batch_size)\n",
    "            self.trainer.train_step(states, actions, rewards, next_states, dones)\n",
    "\n",
    "    def train_short_memory(self, state, action, reward, next_state, done):\n",
    "        state, action, reward, next_state, done = add_dimension(state, action, reward, next_state, done)\n",
    "        self.trainer.train_step(state, action, reward, next_state, done)\n",
    "\n",
    "    def epsilon_greedy_policy(self, state):\n",
    "        if np.random.rand() < self.epsilon:\n",
    "            return np.random.randint(3)\n",
    "        else:\n",
    "            Q_values = self.model(state[np.newaxis])\n",
    "            return np.argmax(Q_values[0])\n",
    "        \n",
    "    def get_action(self, state):\n",
    "        final_move = [0, 0, 0]  \n",
    "        move = self.epsilon_greedy_policy(state)\n",
    "        final_move[move] = 1\n",
    "        return final_move\n",
    "\n",
    "    def save_model(self, model_dir_path=\"./DQNmodel\", file_name='model.keras'):\n",
    "        if not os.path.exists(model_dir_path):\n",
    "            print(f\"La cartella non esiste. Sarà creata con nome: {model_dir_path}\")\n",
    "            os.mkdir(model_dir_path)\n",
    "        file_name = os.path.join(model_dir_path, file_name)\n",
    "        self.model.save(file_name)"
   ]
  },
  {
   "cell_type": "code",
   "execution_count": 9,
   "metadata": {},
   "outputs": [],
   "source": [
    "def train(N_GAME, visual=True):\n",
    "    agent = Agent(max_memory=100_000, batch_size=5_000)\n",
    "    if visual:\n",
    "        env = enviroment_visual.SnakeGameAI(speed=0)\n",
    "    else:\n",
    "        env = enviroment_no_visual.SnakeGameAI()\n",
    "    plot_scores = []\n",
    "    plot_mean_scores = []\n",
    "    total_score = 0\n",
    "    record = 0\n",
    "\n",
    "    while agent.n_games < N_GAME:\n",
    "        state_old = env.get_state()\n",
    "        final_move = agent.get_action(state_old)\n",
    "\n",
    "        # perform move and get new state\n",
    "        state_new, reward, done, score = env.play_step(final_move)\n",
    "\n",
    "        agent.train_short_memory(state_old, final_move, reward, state_new, done)\n",
    "        agent.remember(state_old, final_move, reward, state_new, done)\n",
    "\n",
    "        if done:\n",
    "            env.reset()\n",
    "            agent.n_games += 1\n",
    "            agent.train_long_memory()\n",
    "            print(f\"\\rGame: {agent.n_games}, Epsilon: {agent.epsilon:3f}, Score: {score}, Record: {record}.\", end=\"\")\n",
    "            agent.epsilon = max((agent.epsilon * 0.98), 0.1) # decadimento lineare\n",
    "\n",
    "            if score > record:\n",
    "                record = score\n",
    "                agent.save_model()\n",
    "\n",
    "            plot_scores.append(score)\n",
    "            total_score += score\n",
    "            mean_score = total_score / agent.n_games\n",
    "            plot_mean_scores.append(mean_score)\n",
    "            \n",
    "    return plot_scores, plot_mean_scores"
   ]
  },
  {
   "cell_type": "markdown",
   "metadata": {},
   "source": [
    "Mostra andamento dello score per partita durante il training"
   ]
  },
  {
   "cell_type": "code",
   "execution_count": 10,
   "metadata": {},
   "outputs": [],
   "source": [
    "def plot_trand(scores, mean_scores):\n",
    "    plt.plot(scores, label='Score')\n",
    "    plt.plot(mean_scores, label='Mean score')\n",
    "    plt.title(\"Andamento del training\")\n",
    "    plt.xlabel(\"Partite\")\n",
    "    plt.ylabel(\"Score\")\n",
    "    plt.legend()\n",
    "    plt.show()"
   ]
  },
  {
   "cell_type": "code",
   "execution_count": 11,
   "metadata": {},
   "outputs": [
    {
     "name": "stdout",
     "output_type": "stream",
     "text": [
      "Game: 49, Epsilon: 0.379185, Score: 0, Record: 2."
     ]
    }
   ],
   "source": [
    "plot_scores, plot_mean_scores = train(N_GAME=150, visual=True)\n",
    "plot_trand(plot_scores, plot_mean_scores)"
   ]
  },
  {
   "cell_type": "markdown",
   "metadata": {},
   "source": [
    "Carica un modello salvato"
   ]
  },
  {
   "cell_type": "code",
   "execution_count": 43,
   "metadata": {},
   "outputs": [
    {
     "name": "stdout",
     "output_type": "stream",
     "text": [
      "Caricamento del modello da: DQNmodel/model.keras\n"
     ]
    }
   ],
   "source": [
    "def load_model_from_file(model_dir_path=\"./DQNmodel\", file_name='model.keras'):\n",
    "    file_path = os.path.join(model_dir_path, file_name)\n",
    "    if os.path.exists(file_path):\n",
    "        print(f\"Caricamento del modello da: {file_path}\")\n",
    "        model = keras.models.load_model(file_path)  # Carica il modello\n",
    "        return model\n",
    "    else:\n",
    "        raise FileNotFoundError(f\"Il file {file_path} non esiste.\")\n",
    "    \n",
    "model = load_model_from_file(\"DQNmodel\", \"model.keras\")"
   ]
  },
  {
   "cell_type": "markdown",
   "metadata": {},
   "source": [
    "Testa l'Agente seguendo la policy ottimale su 100 partita e mostra le performance"
   ]
  },
  {
   "cell_type": "code",
   "execution_count": 45,
   "metadata": {},
   "outputs": [
    {
     "name": "stdout",
     "output_type": "stream",
     "text": [
      "Game: 9, Score: 0, Record: 16.Mean score: 3.9\n",
      "Max score: 16"
     ]
    }
   ],
   "source": [
    "env = enviroment_no_visual.SnakeGameAI()\n",
    "MAX_N_GAMES = 10\n",
    "cumulative_score = 0\n",
    "max_score = 0\n",
    "\n",
    "for n_game in range(MAX_N_GAMES):\n",
    "    env.reset()\n",
    "    game_over = False\n",
    "    state= env.get_state()\n",
    "    while not game_over:\n",
    "        action = np.argmax(model(state[np.newaxis])[0])\n",
    "        final_move = [0,0,0]\n",
    "        final_move[action] = 1\n",
    "        state, reward, game_over, score = env.play_step(final_move)\n",
    "    if score > max_score:\n",
    "        max_score = score\n",
    "    cumulative_score += score\n",
    "    print(f\"\\rGame: {n_game}, Score: {score}, Record: {max_score}.\", end=\"\")\n",
    "    \n",
    "print(f\"Mean score: {cumulative_score/ MAX_N_GAMES}\\nMax score: {max_score}\", end=\"\")"
   ]
  },
  {
   "cell_type": "markdown",
   "metadata": {},
   "source": [
    "Mostra visualmente una partita dell'Agente"
   ]
  },
  {
   "cell_type": "code",
   "execution_count": 49,
   "metadata": {},
   "outputs": [],
   "source": [
    "env_visual = enviroment_visual.SnakeGameAI(speed=0)\n",
    "game_over = False\n",
    "state = env_visual.get_state()\n",
    "while not game_over:\n",
    "    action = np.argmax(model(state[np.newaxis])[0])\n",
    "\n",
    "    final_move = [0,0,0]\n",
    "    final_move[action] = 1\n",
    "\n",
    "    state, reward, game_over, score = env_visual.play_step(final_move)\n",
    "    CNN_QLearning"
   ]
  }
 ],
 "metadata": {
  "kernelspec": {
   "display_name": "SnakeRL",
   "language": "python",
   "name": "python3"
  },
  "language_info": {
   "codemirror_mode": {
    "name": "ipython",
    "version": 3
   },
   "file_extension": ".py",
   "mimetype": "text/x-python",
   "name": "python",
   "nbconvert_exporter": "python",
   "pygments_lexer": "ipython3",
   "version": "3.12.4"
  }
 },
 "nbformat": 4,
 "nbformat_minor": 2
}
